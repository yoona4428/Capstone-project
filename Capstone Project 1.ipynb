{
    "cells": [
        {
            "metadata": {},
            "cell_type": "markdown",
            "source": "# Data Science Capstone Project - Car Accident Severity"
        },
        {
            "metadata": {},
            "cell_type": "markdown",
            "source": "## Introduction / Business Problem"
        },
        {
            "metadata": {
                "collapsed": true
            },
            "cell_type": "markdown",
            "source": "For my Capstone Project, I will explore severity of car accidents in Seattle from 2004 to present. Specifically, I would like to explore what type of attributes would most likely to cause collisions"
        },
        {
            "metadata": {},
            "cell_type": "markdown",
            "source": "## Data Section"
        },
        {
            "metadata": {},
            "cell_type": "markdown",
            "source": "I will use a sample data set \"Collisions-All Years\". \nIn order to test the severity of collisions, I will use 5 attributes: INATTENTIONIND, WEATHER, ROADCOND, LIGHTCOND, SPEEDING.\n"
        }
    ],
    "metadata": {
        "kernelspec": {
            "name": "python3",
            "display_name": "Python 3.6",
            "language": "python"
        },
        "language_info": {
            "name": "python",
            "version": "3.6.9",
            "mimetype": "text/x-python",
            "codemirror_mode": {
                "name": "ipython",
                "version": 3
            },
            "pygments_lexer": "ipython3",
            "nbconvert_exporter": "python",
            "file_extension": ".py"
        }
    },
    "nbformat": 4,
    "nbformat_minor": 1
}