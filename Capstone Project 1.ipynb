{
    "cells": [
        {
            "cell_type": "markdown",
            "metadata": {},
            "source": "# Data Science Capstone Project - Car Accident Severity"
        },
        {
            "cell_type": "markdown",
            "metadata": {},
            "source": "## Introduction / Business Problem"
        },
        {
            "cell_type": "markdown",
            "metadata": {
                "collapsed": true
            },
            "source": "For my Capstone Project, I will explore severity of car accidents in Seattle from 2004 to present. Specifically, I would like to explore what type of attributes would most likely to cause collisions"
        },
        {
            "cell_type": "markdown",
            "metadata": {},
            "source": "## Data Section"
        },
        {
            "cell_type": "markdown",
            "metadata": {},
            "source": "I will use a sample data set \"Collisions-All Years\". \nIn order to test the severity of collisions, I will use 5 attributes: INATTENTIONIND, WEATHER, ROADCOND, LIGHTCOND, SPEEDING.\n"
        }
    ],
    "metadata": {
        "kernelspec": {
            "display_name": "Python 3.6",
            "language": "python",
            "name": "python3"
        },
        "language_info": {
            "codemirror_mode": {
                "name": "ipython",
                "version": 3
            },
            "file_extension": ".py",
            "mimetype": "text/x-python",
            "name": "python",
            "nbconvert_exporter": "python",
            "pygments_lexer": "ipython3",
            "version": "3.6.9"
        }
    },
    "nbformat": 4,
    "nbformat_minor": 1
}